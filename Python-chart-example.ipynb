{
 "cells": [
  {
   "cell_type": "markdown",
   "id": "0e40ebb7",
   "metadata": {},
   "source": [
    "# Create Random Data to Visualize"
   ]
  },
  {
   "cell_type": "code",
   "execution_count": 15,
   "id": "4cb15ff8",
   "metadata": {},
   "outputs": [],
   "source": [
    "import pandas as pd\n",
    "import numpy as np\n",
    "\n",
    "np.random.seed(0)\n",
    "N = 100\n",
    "D = ['A', 'B', 'C']\n",
    "df = {\n",
    "    'c1': np.random.rand(N),\n",
    "    'c2': np.random.rand(N),\n",
    "    'd1': np.random.choice(D, N),\n",
    "    'd2': np.random.choice(D, N),\n",
    "}\n",
    "df = pd.DataFrame(df)\n",
    "datasets = [\n",
    "    ('Continuous-Continuous', 'c1', 'c2'),\n",
    "    ('Continuous-Discrete', 'c1', 'd1'),\n",
    "    ('Discrete-Discrete', 'd1', 'd2'),\n",
    "]"
   ]
  },
  {
   "cell_type": "markdown",
   "id": "f18b8b39",
   "metadata": {},
   "source": [
    "# Visualize with Plotly"
   ]
  },
  {
   "cell_type": "code",
   "execution_count": 16,
   "id": "729fd670",
   "metadata": {},
   "outputs": [
    {
     "data": {
      "application/vnd.plotly.v1+json": {
       "config": {
        "plotlyServerURL": "https://plot.ly"
       },
       "data": [
        {
         "hovertemplate": "d1=C<br>c1=%{x}<br>c2=%{y}<extra></extra>",
         "legendgroup": "C",
         "marker": {
          "color": "#636efa",
          "line": {
           "color": "DarkSlateGrey",
           "width": 1
          },
          "opacity": 0.8,
          "size": 10,
          "symbol": "circle"
         },
         "mode": "markers",
         "name": "C",
         "orientation": "v",
         "showlegend": true,
         "type": "scatter",
         "x": {
          "bdata": "qBJfVuGP4T8zh2DP1OLmP9JZYcptAdw/KKk/v89V6T/giSKvIbSUPx24j/yo5ug/gfnkaddQ7z8Y8Cm84IjdPwtzbED7suA/wH67KZEx3T+IAjjfVPjbP7+pZaj+UuY/AFoRft/Vrj/E/brV0O3KP1LW3GT6L9Q/XLKZiglH1z+semiFHVnEPyiSl5WLQbw/ZBp0nPqvwT+55Q2Yk0XqP9TTsdZx0Oo/YCwav+eZuD/wtROcYf7dP6V3FBgMqOc/qJGAqzPFvj+03tgD9vPSP9aLWO9Ig9o/3sBCSrso5j9QXhI0JPzQP4Afej18DLg/RNNamsDewD9SlF0HJ+zmPwBq+kqQO3M/",
          "dtype": "f8"
         },
         "xaxis": "x",
         "y": {
          "bdata": "DEpHTqyw5T8CQaGFz0fRPxaLlesB8uI/+vSXw7Od3D+Yyv9U/zHsPxGW3BMtN+w/HYCjdkg15z/ZEOy0PJjuPx3nJkEkIOU/DFSl0TZXwT82MMc4IobXP4hR3/815ds/z5YK2aKK7D+Aqy8jeKi5P9qC4JEQ2+Y/1lNd/4327z/uP34lVlHmP3hQXOPXBt0/nER2bWe56z/AQNHDjf2HP83//yoVXOc/sDJuFfb3xT+g7rFVMNKrP+SS2rn4Zek/1tluitey7T+i+WISkIrmPzWUM6wm4+M/CNvgn0Vzzj+HY7fum6XjP1DdAOOK4OI/VP9/IyzVxz9IPkdyTDjuP3QX52N7zds/",
          "dtype": "f8"
         },
         "yaxis": "y"
        },
        {
         "hovertemplate": "d1=A<br>c1=%{x}<br>c2=%{y}<extra></extra>",
         "legendgroup": "A",
         "marker": {
          "color": "#EF553B",
          "line": {
           "color": "DarkSlateGrey",
           "width": 1
          },
          "opacity": 0.8,
          "size": 10,
          "symbol": "circle"
         },
         "mode": "markers",
         "name": "A",
         "orientation": "v",
         "showlegend": true,
         "type": "scatter",
         "x": {
          "bdata": "S4lua9ZJ4z8if+sJtezgPwglWNd8nu0/eyDUX9Kk6j8n+Hq3I9frP/IhNPu0kuk/Miy3Uhj66D8wbA+XO0e+P//8U6Y7euQ/qBSZiGZZwj8E78k70onaP86bfal67tA/wHN9KaI9kz9eRJmEq8PjPzeo48RJluM/xMOLXey94z/GQpwrLzPuP9CN52wtAtc/vdCcJidW5T/sAq+M3XXlP3jPAiyogMA//lgnTA0/4j98Myk6ebzKPzy/7E/KpcQ/eqBQ++010D80LswjCdjdP4jQROmmAOU/RQ05eKBB7z+u/M395FrjP/A2Cx/WWdQ/+DTwZvhrsD9y3XVfmSHiP0FiHGHLvO0/2CoeIqGF0j/VFjbGtsTiP8DEHJUSl5Q/+a56Pa2G6j8=",
          "dtype": "f8"
         },
         "xaxis": "x",
         "y": {
          "bdata": "XWYnnbWG5z9/DuqjxxXrP1LdIv40CdM/TrxAkcmZ4j+XlloCOCnmP9EAIm7ZCuA/nViUVZGb5D/mUfPscCDbP6tD5r2SZ+M/oEotvGGnkz+kVBGroZDSP2Am/0rIxuM/NYtqDSc94j9SDzX+bejiP51uIljfYOI/gzfgZwXn5D+As0itB97kP3ynkHyCsOw/O+klVlfM6T8orcpZQYbmP2PEaM1mbO0/6G95Ph8hwz9g/O2YqrK/PxKxdSfiIus/+VSPwBI24j8YCkSISg/aP17NM1gUG+c/LDHfcnyZyT+A4+KVYPeSP5AbALiyFMU/XeDLFqh44j9FrRHBFOXtP6gWbyTo9tM/q/XObWaq5z/UguMq7BvNP3CvrmhgR9A/oFucg/+1rT8=",
          "dtype": "f8"
         },
         "yaxis": "y"
        },
        {
         "hovertemplate": "d1=B<br>c1=%{x}<br>c2=%{y}<extra></extra>",
         "legendgroup": "B",
         "marker": {
          "color": "#00cc96",
          "line": {
           "color": "DarkSlateGrey",
           "width": 1
          },
          "opacity": 0.8,
          "size": 10,
          "symbol": "circle"
         },
         "mode": "markers",
         "name": "B",
         "orientation": "v",
         "showlegend": true,
         "type": "scatter",
         "x": {
          "bdata": "9ZVj265v4T/2Dv0EKR3bP1ubiSEqq+Q/9xI6iGeJ7D82MxdJU9buPxZC0ktOitg/LTaSyWst4j8I88tKay+yP/DSvRQbTrY/iNIIT7o67j+tmvK6hcboP6J2imScMOI/sL/MzXjR5T9G/hIVDBLcP8z21SvCoO8/gKjj1Jsfuj+S0FNuQ+bkP7jl+XlWSc8/aHExX5wpyT/i2kx1MZnXP+ha7hOh27g/JkWD6yc/7z/g/UQcbBCkP5Ax1l+CGdI/KIMJlvBkvj9suaqzcr7gP3AbVVgnbuI/mikTCG9j1D/sjl4DbVvlP0h5XYbQcsc/",
          "dtype": "f8"
         },
         "xaxis": "x",
         "y": {
          "bdata": "3a+7oT/K7j9UAxmcJNfPP8malYHhb+I/U0GOOuNP4j+UzkNe8I3MP3xguH7rfO4/ov12XCJi5j8ttKW5oQrqP5pMZ51ZYNk/SIW6dQBN0z/wEQdH8nDbP4QuvcAOF9M/XiXFEVyc2z/3dSZMsMfrP2APIoiRzMQ/E9qq+Kmy4z8uRaWRjtXpPwhBcZ/ttLE/7AYR4Hg37z+4R+ywvWLrP6CQjW/hCdc/UUz19VSs4D80QP5tkKnMP6aOje89GtY/MDonMjFNoD8xBnVn5yPhPzSj298oXec/yvmyMXR82T+gII/zKNzKP3ILw1etY98/",
          "dtype": "f8"
         },
         "yaxis": "y"
        },
        {
         "hovertemplate": "d1=%{x}<br>c1=%{y}<extra></extra>",
         "legendgroup": "A",
         "marker": {
          "color": "#636efa",
          "pattern": {
           "shape": ""
          }
         },
         "name": "A",
         "orientation": "v",
         "showlegend": true,
         "textposition": "auto",
         "type": "bar",
         "x": [
          "A"
         ],
         "xaxis": "x2",
         "y": {
          "bdata": "AV2+7Sp74D8=",
          "dtype": "f8"
         },
         "yaxis": "y2"
        },
        {
         "hovertemplate": "d1=%{x}<br>c1=%{y}<extra></extra>",
         "legendgroup": "B",
         "marker": {
          "color": "#EF553B",
          "pattern": {
           "shape": ""
          }
         },
         "name": "B",
         "orientation": "v",
         "showlegend": true,
         "textposition": "auto",
         "type": "bar",
         "x": [
          "B"
         ],
         "xaxis": "x2",
         "y": {
          "bdata": "lEc2k16O3j8=",
          "dtype": "f8"
         },
         "yaxis": "y2"
        },
        {
         "hovertemplate": "d1=%{x}<br>c1=%{y}<extra></extra>",
         "legendgroup": "C",
         "marker": {
          "color": "#00cc96",
          "pattern": {
           "shape": ""
          }
         },
         "name": "C",
         "orientation": "v",
         "showlegend": true,
         "textposition": "auto",
         "type": "bar",
         "x": [
          "C"
         ],
         "xaxis": "x2",
         "y": {
          "bdata": "HSvhwxb12j8=",
          "dtype": "f8"
         },
         "yaxis": "y2"
        },
        {
         "coloraxis": "coloraxis",
         "hovertemplate": "d1=%{x}<br>d2=%{y}<br>count=%{z}<extra></extra>",
         "name": "",
         "type": "histogram2d",
         "x": [
          "C",
          "C",
          "A",
          "B",
          "B",
          "B",
          "C",
          "B",
          "B",
          "B",
          "C",
          "A",
          "B",
          "A",
          "B",
          "B",
          "C",
          "A",
          "C",
          "A",
          "C",
          "A",
          "C",
          "A",
          "A",
          "A",
          "A",
          "B",
          "C",
          "A",
          "A",
          "B",
          "C",
          "B",
          "A",
          "A",
          "A",
          "A",
          "A",
          "B",
          "A",
          "C",
          "C",
          "C",
          "A",
          "A",
          "C",
          "A",
          "C",
          "C",
          "A",
          "B",
          "B",
          "B",
          "A",
          "A",
          "B",
          "A",
          "A",
          "B",
          "C",
          "C",
          "A",
          "C",
          "B",
          "B",
          "C",
          "B",
          "C",
          "C",
          "B",
          "C",
          "A",
          "A",
          "C",
          "B",
          "B",
          "C",
          "C",
          "B",
          "A",
          "C",
          "A",
          "C",
          "A",
          "C",
          "B",
          "C",
          "B",
          "A",
          "B",
          "B",
          "C",
          "C",
          "A",
          "B",
          "A",
          "A",
          "A",
          "C"
         ],
         "xaxis": "x3",
         "xbingroup": "x",
         "y": [
          "A",
          "B",
          "A",
          "C",
          "B",
          "A",
          "B",
          "C",
          "A",
          "A",
          "A",
          "C",
          "B",
          "A",
          "A",
          "A",
          "A",
          "B",
          "C",
          "C",
          "B",
          "A",
          "B",
          "B",
          "B",
          "B",
          "B",
          "B",
          "C",
          "C",
          "B",
          "B",
          "B",
          "C",
          "A",
          "A",
          "A",
          "B",
          "A",
          "B",
          "A",
          "C",
          "C",
          "B",
          "A",
          "A",
          "A",
          "A",
          "A",
          "C",
          "B",
          "A",
          "C",
          "A",
          "C",
          "B",
          "A",
          "A",
          "C",
          "B",
          "C",
          "C",
          "B",
          "A",
          "A",
          "C",
          "B",
          "B",
          "A",
          "A",
          "C",
          "A",
          "B",
          "C",
          "C",
          "B",
          "A",
          "A",
          "B",
          "A",
          "A",
          "C",
          "A",
          "A",
          "B",
          "B",
          "B",
          "B",
          "B",
          "B",
          "C",
          "A",
          "C",
          "A",
          "B",
          "A",
          "C",
          "A",
          "A",
          "B"
         ],
         "yaxis": "y3",
         "ybingroup": "y"
        }
       ],
       "layout": {
        "annotations": [
         {
          "font": {
           "size": 16
          },
          "showarrow": false,
          "text": "Continuous-Continuous",
          "x": 0.11666666666666665,
          "xanchor": "center",
          "xref": "paper",
          "y": 1,
          "yanchor": "bottom",
          "yref": "paper"
         },
         {
          "font": {
           "size": 16
          },
          "showarrow": false,
          "text": "Continuous-Discrete",
          "x": 0.49999999999999994,
          "xanchor": "center",
          "xref": "paper",
          "y": 1,
          "yanchor": "bottom",
          "yref": "paper"
         },
         {
          "font": {
           "size": 16
          },
          "showarrow": false,
          "text": "Discrete-Discrete",
          "x": 0.8833333333333333,
          "xanchor": "center",
          "xref": "paper",
          "y": 1,
          "yanchor": "bottom",
          "yref": "paper"
         }
        ],
        "coloraxis": {
         "showscale": false
        },
        "height": 400,
        "showlegend": false,
        "template": {
         "data": {
          "bar": [
           {
            "error_x": {
             "color": "rgb(36,36,36)"
            },
            "error_y": {
             "color": "rgb(36,36,36)"
            },
            "marker": {
             "line": {
              "color": "white",
              "width": 0.5
             },
             "pattern": {
              "fillmode": "overlay",
              "size": 10,
              "solidity": 0.2
             }
            },
            "type": "bar"
           }
          ],
          "barpolar": [
           {
            "marker": {
             "line": {
              "color": "white",
              "width": 0.5
             },
             "pattern": {
              "fillmode": "overlay",
              "size": 10,
              "solidity": 0.2
             }
            },
            "type": "barpolar"
           }
          ],
          "carpet": [
           {
            "aaxis": {
             "endlinecolor": "rgb(36,36,36)",
             "gridcolor": "white",
             "linecolor": "white",
             "minorgridcolor": "white",
             "startlinecolor": "rgb(36,36,36)"
            },
            "baxis": {
             "endlinecolor": "rgb(36,36,36)",
             "gridcolor": "white",
             "linecolor": "white",
             "minorgridcolor": "white",
             "startlinecolor": "rgb(36,36,36)"
            },
            "type": "carpet"
           }
          ],
          "choropleth": [
           {
            "colorbar": {
             "outlinewidth": 1,
             "tickcolor": "rgb(36,36,36)",
             "ticks": "outside"
            },
            "type": "choropleth"
           }
          ],
          "contour": [
           {
            "colorbar": {
             "outlinewidth": 1,
             "tickcolor": "rgb(36,36,36)",
             "ticks": "outside"
            },
            "colorscale": [
             [
              0,
              "#440154"
             ],
             [
              0.1111111111111111,
              "#482878"
             ],
             [
              0.2222222222222222,
              "#3e4989"
             ],
             [
              0.3333333333333333,
              "#31688e"
             ],
             [
              0.4444444444444444,
              "#26828e"
             ],
             [
              0.5555555555555556,
              "#1f9e89"
             ],
             [
              0.6666666666666666,
              "#35b779"
             ],
             [
              0.7777777777777778,
              "#6ece58"
             ],
             [
              0.8888888888888888,
              "#b5de2b"
             ],
             [
              1,
              "#fde725"
             ]
            ],
            "type": "contour"
           }
          ],
          "contourcarpet": [
           {
            "colorbar": {
             "outlinewidth": 1,
             "tickcolor": "rgb(36,36,36)",
             "ticks": "outside"
            },
            "type": "contourcarpet"
           }
          ],
          "heatmap": [
           {
            "colorbar": {
             "outlinewidth": 1,
             "tickcolor": "rgb(36,36,36)",
             "ticks": "outside"
            },
            "colorscale": [
             [
              0,
              "#440154"
             ],
             [
              0.1111111111111111,
              "#482878"
             ],
             [
              0.2222222222222222,
              "#3e4989"
             ],
             [
              0.3333333333333333,
              "#31688e"
             ],
             [
              0.4444444444444444,
              "#26828e"
             ],
             [
              0.5555555555555556,
              "#1f9e89"
             ],
             [
              0.6666666666666666,
              "#35b779"
             ],
             [
              0.7777777777777778,
              "#6ece58"
             ],
             [
              0.8888888888888888,
              "#b5de2b"
             ],
             [
              1,
              "#fde725"
             ]
            ],
            "type": "heatmap"
           }
          ],
          "histogram": [
           {
            "marker": {
             "line": {
              "color": "white",
              "width": 0.6
             }
            },
            "type": "histogram"
           }
          ],
          "histogram2d": [
           {
            "colorbar": {
             "outlinewidth": 1,
             "tickcolor": "rgb(36,36,36)",
             "ticks": "outside"
            },
            "colorscale": [
             [
              0,
              "#440154"
             ],
             [
              0.1111111111111111,
              "#482878"
             ],
             [
              0.2222222222222222,
              "#3e4989"
             ],
             [
              0.3333333333333333,
              "#31688e"
             ],
             [
              0.4444444444444444,
              "#26828e"
             ],
             [
              0.5555555555555556,
              "#1f9e89"
             ],
             [
              0.6666666666666666,
              "#35b779"
             ],
             [
              0.7777777777777778,
              "#6ece58"
             ],
             [
              0.8888888888888888,
              "#b5de2b"
             ],
             [
              1,
              "#fde725"
             ]
            ],
            "type": "histogram2d"
           }
          ],
          "histogram2dcontour": [
           {
            "colorbar": {
             "outlinewidth": 1,
             "tickcolor": "rgb(36,36,36)",
             "ticks": "outside"
            },
            "colorscale": [
             [
              0,
              "#440154"
             ],
             [
              0.1111111111111111,
              "#482878"
             ],
             [
              0.2222222222222222,
              "#3e4989"
             ],
             [
              0.3333333333333333,
              "#31688e"
             ],
             [
              0.4444444444444444,
              "#26828e"
             ],
             [
              0.5555555555555556,
              "#1f9e89"
             ],
             [
              0.6666666666666666,
              "#35b779"
             ],
             [
              0.7777777777777778,
              "#6ece58"
             ],
             [
              0.8888888888888888,
              "#b5de2b"
             ],
             [
              1,
              "#fde725"
             ]
            ],
            "type": "histogram2dcontour"
           }
          ],
          "mesh3d": [
           {
            "colorbar": {
             "outlinewidth": 1,
             "tickcolor": "rgb(36,36,36)",
             "ticks": "outside"
            },
            "type": "mesh3d"
           }
          ],
          "parcoords": [
           {
            "line": {
             "colorbar": {
              "outlinewidth": 1,
              "tickcolor": "rgb(36,36,36)",
              "ticks": "outside"
             }
            },
            "type": "parcoords"
           }
          ],
          "pie": [
           {
            "automargin": true,
            "type": "pie"
           }
          ],
          "scatter": [
           {
            "fillpattern": {
             "fillmode": "overlay",
             "size": 10,
             "solidity": 0.2
            },
            "type": "scatter"
           }
          ],
          "scatter3d": [
           {
            "line": {
             "colorbar": {
              "outlinewidth": 1,
              "tickcolor": "rgb(36,36,36)",
              "ticks": "outside"
             }
            },
            "marker": {
             "colorbar": {
              "outlinewidth": 1,
              "tickcolor": "rgb(36,36,36)",
              "ticks": "outside"
             }
            },
            "type": "scatter3d"
           }
          ],
          "scattercarpet": [
           {
            "marker": {
             "colorbar": {
              "outlinewidth": 1,
              "tickcolor": "rgb(36,36,36)",
              "ticks": "outside"
             }
            },
            "type": "scattercarpet"
           }
          ],
          "scattergeo": [
           {
            "marker": {
             "colorbar": {
              "outlinewidth": 1,
              "tickcolor": "rgb(36,36,36)",
              "ticks": "outside"
             }
            },
            "type": "scattergeo"
           }
          ],
          "scattergl": [
           {
            "marker": {
             "colorbar": {
              "outlinewidth": 1,
              "tickcolor": "rgb(36,36,36)",
              "ticks": "outside"
             }
            },
            "type": "scattergl"
           }
          ],
          "scattermap": [
           {
            "marker": {
             "colorbar": {
              "outlinewidth": 1,
              "tickcolor": "rgb(36,36,36)",
              "ticks": "outside"
             }
            },
            "type": "scattermap"
           }
          ],
          "scattermapbox": [
           {
            "marker": {
             "colorbar": {
              "outlinewidth": 1,
              "tickcolor": "rgb(36,36,36)",
              "ticks": "outside"
             }
            },
            "type": "scattermapbox"
           }
          ],
          "scatterpolar": [
           {
            "marker": {
             "colorbar": {
              "outlinewidth": 1,
              "tickcolor": "rgb(36,36,36)",
              "ticks": "outside"
             }
            },
            "type": "scatterpolar"
           }
          ],
          "scatterpolargl": [
           {
            "marker": {
             "colorbar": {
              "outlinewidth": 1,
              "tickcolor": "rgb(36,36,36)",
              "ticks": "outside"
             }
            },
            "type": "scatterpolargl"
           }
          ],
          "scatterternary": [
           {
            "marker": {
             "colorbar": {
              "outlinewidth": 1,
              "tickcolor": "rgb(36,36,36)",
              "ticks": "outside"
             }
            },
            "type": "scatterternary"
           }
          ],
          "surface": [
           {
            "colorbar": {
             "outlinewidth": 1,
             "tickcolor": "rgb(36,36,36)",
             "ticks": "outside"
            },
            "colorscale": [
             [
              0,
              "#440154"
             ],
             [
              0.1111111111111111,
              "#482878"
             ],
             [
              0.2222222222222222,
              "#3e4989"
             ],
             [
              0.3333333333333333,
              "#31688e"
             ],
             [
              0.4444444444444444,
              "#26828e"
             ],
             [
              0.5555555555555556,
              "#1f9e89"
             ],
             [
              0.6666666666666666,
              "#35b779"
             ],
             [
              0.7777777777777778,
              "#6ece58"
             ],
             [
              0.8888888888888888,
              "#b5de2b"
             ],
             [
              1,
              "#fde725"
             ]
            ],
            "type": "surface"
           }
          ],
          "table": [
           {
            "cells": {
             "fill": {
              "color": "rgb(237,237,237)"
             },
             "line": {
              "color": "white"
             }
            },
            "header": {
             "fill": {
              "color": "rgb(217,217,217)"
             },
             "line": {
              "color": "white"
             }
            },
            "type": "table"
           }
          ]
         },
         "layout": {
          "annotationdefaults": {
           "arrowhead": 0,
           "arrowwidth": 1
          },
          "autotypenumbers": "strict",
          "coloraxis": {
           "colorbar": {
            "outlinewidth": 1,
            "tickcolor": "rgb(36,36,36)",
            "ticks": "outside"
           }
          },
          "colorscale": {
           "diverging": [
            [
             0,
             "rgb(103,0,31)"
            ],
            [
             0.1,
             "rgb(178,24,43)"
            ],
            [
             0.2,
             "rgb(214,96,77)"
            ],
            [
             0.3,
             "rgb(244,165,130)"
            ],
            [
             0.4,
             "rgb(253,219,199)"
            ],
            [
             0.5,
             "rgb(247,247,247)"
            ],
            [
             0.6,
             "rgb(209,229,240)"
            ],
            [
             0.7,
             "rgb(146,197,222)"
            ],
            [
             0.8,
             "rgb(67,147,195)"
            ],
            [
             0.9,
             "rgb(33,102,172)"
            ],
            [
             1,
             "rgb(5,48,97)"
            ]
           ],
           "sequential": [
            [
             0,
             "#440154"
            ],
            [
             0.1111111111111111,
             "#482878"
            ],
            [
             0.2222222222222222,
             "#3e4989"
            ],
            [
             0.3333333333333333,
             "#31688e"
            ],
            [
             0.4444444444444444,
             "#26828e"
            ],
            [
             0.5555555555555556,
             "#1f9e89"
            ],
            [
             0.6666666666666666,
             "#35b779"
            ],
            [
             0.7777777777777778,
             "#6ece58"
            ],
            [
             0.8888888888888888,
             "#b5de2b"
            ],
            [
             1,
             "#fde725"
            ]
           ],
           "sequentialminus": [
            [
             0,
             "#440154"
            ],
            [
             0.1111111111111111,
             "#482878"
            ],
            [
             0.2222222222222222,
             "#3e4989"
            ],
            [
             0.3333333333333333,
             "#31688e"
            ],
            [
             0.4444444444444444,
             "#26828e"
            ],
            [
             0.5555555555555556,
             "#1f9e89"
            ],
            [
             0.6666666666666666,
             "#35b779"
            ],
            [
             0.7777777777777778,
             "#6ece58"
            ],
            [
             0.8888888888888888,
             "#b5de2b"
            ],
            [
             1,
             "#fde725"
            ]
           ]
          },
          "colorway": [
           "#1F77B4",
           "#FF7F0E",
           "#2CA02C",
           "#D62728",
           "#9467BD",
           "#8C564B",
           "#E377C2",
           "#7F7F7F",
           "#BCBD22",
           "#17BECF"
          ],
          "font": {
           "color": "rgb(36,36,36)"
          },
          "geo": {
           "bgcolor": "white",
           "lakecolor": "white",
           "landcolor": "white",
           "showlakes": true,
           "showland": true,
           "subunitcolor": "white"
          },
          "hoverlabel": {
           "align": "left"
          },
          "hovermode": "closest",
          "mapbox": {
           "style": "light"
          },
          "paper_bgcolor": "white",
          "plot_bgcolor": "white",
          "polar": {
           "angularaxis": {
            "gridcolor": "rgb(232,232,232)",
            "linecolor": "rgb(36,36,36)",
            "showgrid": false,
            "showline": true,
            "ticks": "outside"
           },
           "bgcolor": "white",
           "radialaxis": {
            "gridcolor": "rgb(232,232,232)",
            "linecolor": "rgb(36,36,36)",
            "showgrid": false,
            "showline": true,
            "ticks": "outside"
           }
          },
          "scene": {
           "xaxis": {
            "backgroundcolor": "white",
            "gridcolor": "rgb(232,232,232)",
            "gridwidth": 2,
            "linecolor": "rgb(36,36,36)",
            "showbackground": true,
            "showgrid": false,
            "showline": true,
            "ticks": "outside",
            "zeroline": false,
            "zerolinecolor": "rgb(36,36,36)"
           },
           "yaxis": {
            "backgroundcolor": "white",
            "gridcolor": "rgb(232,232,232)",
            "gridwidth": 2,
            "linecolor": "rgb(36,36,36)",
            "showbackground": true,
            "showgrid": false,
            "showline": true,
            "ticks": "outside",
            "zeroline": false,
            "zerolinecolor": "rgb(36,36,36)"
           },
           "zaxis": {
            "backgroundcolor": "white",
            "gridcolor": "rgb(232,232,232)",
            "gridwidth": 2,
            "linecolor": "rgb(36,36,36)",
            "showbackground": true,
            "showgrid": false,
            "showline": true,
            "ticks": "outside",
            "zeroline": false,
            "zerolinecolor": "rgb(36,36,36)"
           }
          },
          "shapedefaults": {
           "fillcolor": "black",
           "line": {
            "width": 0
           },
           "opacity": 0.3
          },
          "ternary": {
           "aaxis": {
            "gridcolor": "rgb(232,232,232)",
            "linecolor": "rgb(36,36,36)",
            "showgrid": false,
            "showline": true,
            "ticks": "outside"
           },
           "baxis": {
            "gridcolor": "rgb(232,232,232)",
            "linecolor": "rgb(36,36,36)",
            "showgrid": false,
            "showline": true,
            "ticks": "outside"
           },
           "bgcolor": "white",
           "caxis": {
            "gridcolor": "rgb(232,232,232)",
            "linecolor": "rgb(36,36,36)",
            "showgrid": false,
            "showline": true,
            "ticks": "outside"
           }
          },
          "title": {
           "x": 0.05
          },
          "xaxis": {
           "automargin": true,
           "gridcolor": "rgb(232,232,232)",
           "linecolor": "rgb(36,36,36)",
           "showgrid": false,
           "showline": true,
           "ticks": "outside",
           "title": {
            "standoff": 15
           },
           "zeroline": false,
           "zerolinecolor": "rgb(36,36,36)"
          },
          "yaxis": {
           "automargin": true,
           "gridcolor": "rgb(232,232,232)",
           "linecolor": "rgb(36,36,36)",
           "showgrid": false,
           "showline": true,
           "ticks": "outside",
           "title": {
            "standoff": 15
           },
           "zeroline": false,
           "zerolinecolor": "rgb(36,36,36)"
          }
         }
        },
        "title": {
         "text": "Plotly Subplots with Different Data Types"
        },
        "width": 1200,
        "xaxis": {
         "anchor": "y",
         "domain": [
          0,
          0.2333333333333333
         ]
        },
        "xaxis2": {
         "anchor": "y2",
         "domain": [
          0.3833333333333333,
          0.6166666666666666
         ]
        },
        "xaxis3": {
         "anchor": "y3",
         "domain": [
          0.7666666666666666,
          0.9999999999999999
         ]
        },
        "yaxis": {
         "anchor": "x",
         "domain": [
          0,
          1
         ]
        },
        "yaxis2": {
         "anchor": "x2",
         "domain": [
          0,
          1
         ]
        },
        "yaxis3": {
         "anchor": "x3",
         "domain": [
          0,
          1
         ]
        }
       }
      }
     },
     "metadata": {},
     "output_type": "display_data"
    }
   ],
   "source": [
    "import plotly.express as px\n",
    "from plotly.subplots import make_subplots\n",
    "\n",
    "fig = make_subplots(\n",
    "    rows=1, \n",
    "    cols=len(datasets),\n",
    "    horizontal_spacing=0.15,\n",
    "    subplot_titles=[title for title, _, _ in datasets]\n",
    ")\n",
    "\n",
    "for i, (title, x, y) in enumerate(datasets):\n",
    "    # Continuous-Continuous\n",
    "    if 'c' in x and 'c' in y:\n",
    "        scatter = px.scatter(df, x='c1', y='c2', color='d1')\n",
    "        for trace in scatter.data:\n",
    "            fig.add_trace(trace, row=1, col=i+1)\n",
    "        fig.update_traces(marker=dict(size=10, opacity=0.8, line=dict(width=1, color='DarkSlateGrey')), selector=dict(type='scatter'), row=1, col=i+1)\n",
    "    # Continuous-Discrete\n",
    "    elif 'c' in x and 'd' in y:\n",
    "        agg_df = df.groupby('d1', as_index=False).agg({'c1': 'mean'})\n",
    "        bar = px.bar(agg_df, x='d1', y='c1', color='d1')\n",
    "        for trace in bar.data:\n",
    "            fig.add_trace(trace, row=1, col=i+1)\n",
    "    # Discrete-Discrete\n",
    "    else:\n",
    "        heatmap = px.density_heatmap(df, x='d1', y='d2', color_continuous_scale='Viridis')\n",
    "        for trace in heatmap.data:\n",
    "            fig.add_trace(trace, row=1, col=i+1)\n",
    "        fig.update_coloraxes(showscale=False)\n",
    "\n",
    "fig.update_layout(\n",
    "    title_text='Plotly Subplots with Different Data Types',\n",
    "    template='simple_white',\n",
    "    width=1200,\n",
    "    height=400,\n",
    "    showlegend=False,\n",
    ")\n",
    "fig.show()\n",
    "\n",
    "# Export as svg\n",
    "fig.write_image('plots/plotly.svg')"
   ]
  },
  {
   "cell_type": "markdown",
   "id": "df075862",
   "metadata": {},
   "source": [
    "# Visualize with Altair"
   ]
  },
  {
   "cell_type": "code",
   "execution_count": 17,
   "id": "799bd2a8",
   "metadata": {},
   "outputs": [
    {
     "data": {
      "text/html": [
       "\n",
       "<style>\n",
       "  #altair-viz-ed9f392ed0494363a3d74199a6090cbc.vega-embed {\n",
       "    width: 100%;\n",
       "    display: flex;\n",
       "  }\n",
       "\n",
       "  #altair-viz-ed9f392ed0494363a3d74199a6090cbc.vega-embed details,\n",
       "  #altair-viz-ed9f392ed0494363a3d74199a6090cbc.vega-embed details summary {\n",
       "    position: relative;\n",
       "  }\n",
       "</style>\n",
       "<div id=\"altair-viz-ed9f392ed0494363a3d74199a6090cbc\"></div>\n",
       "<script type=\"text/javascript\">\n",
       "  var VEGA_DEBUG = (typeof VEGA_DEBUG == \"undefined\") ? {} : VEGA_DEBUG;\n",
       "  (function(spec, embedOpt){\n",
       "    let outputDiv = document.currentScript.previousElementSibling;\n",
       "    if (outputDiv.id !== \"altair-viz-ed9f392ed0494363a3d74199a6090cbc\") {\n",
       "      outputDiv = document.getElementById(\"altair-viz-ed9f392ed0494363a3d74199a6090cbc\");\n",
       "    }\n",
       "\n",
       "    const paths = {\n",
       "      \"vega\": \"https://cdn.jsdelivr.net/npm/vega@5?noext\",\n",
       "      \"vega-lib\": \"https://cdn.jsdelivr.net/npm/vega-lib?noext\",\n",
       "      \"vega-lite\": \"https://cdn.jsdelivr.net/npm/vega-lite@5.20.1?noext\",\n",
       "      \"vega-embed\": \"https://cdn.jsdelivr.net/npm/vega-embed@6?noext\",\n",
       "    };\n",
       "\n",
       "    function maybeLoadScript(lib, version) {\n",
       "      var key = `${lib.replace(\"-\", \"\")}_version`;\n",
       "      return (VEGA_DEBUG[key] == version) ?\n",
       "        Promise.resolve(paths[lib]) :\n",
       "        new Promise(function(resolve, reject) {\n",
       "          var s = document.createElement('script');\n",
       "          document.getElementsByTagName(\"head\")[0].appendChild(s);\n",
       "          s.async = true;\n",
       "          s.onload = () => {\n",
       "            VEGA_DEBUG[key] = version;\n",
       "            return resolve(paths[lib]);\n",
       "          };\n",
       "          s.onerror = () => reject(`Error loading script: ${paths[lib]}`);\n",
       "          s.src = paths[lib];\n",
       "        });\n",
       "    }\n",
       "\n",
       "    function showError(err) {\n",
       "      outputDiv.innerHTML = `<div class=\"error\" style=\"color:red;\">${err}</div>`;\n",
       "      throw err;\n",
       "    }\n",
       "\n",
       "    function displayChart(vegaEmbed) {\n",
       "      vegaEmbed(outputDiv, spec, embedOpt)\n",
       "        .catch(err => showError(`Javascript Error: ${err.message}<br>This usually means there's a typo in your chart specification. See the javascript console for the full traceback.`));\n",
       "    }\n",
       "\n",
       "    if(typeof define === \"function\" && define.amd) {\n",
       "      requirejs.config({paths});\n",
       "      let deps = [\"vega-embed\"];\n",
       "      require(deps, displayChart, err => showError(`Error loading script: ${err.message}`));\n",
       "    } else {\n",
       "      maybeLoadScript(\"vega\", \"5\")\n",
       "        .then(() => maybeLoadScript(\"vega-lite\", \"5.20.1\"))\n",
       "        .then(() => maybeLoadScript(\"vega-embed\", \"6\"))\n",
       "        .catch(showError)\n",
       "        .then(() => displayChart(vegaEmbed));\n",
       "    }\n",
       "  })({\"config\": {\"view\": {\"continuousWidth\": 300, \"continuousHeight\": 300}}, \"hconcat\": [{\"data\": {\"name\": \"data-16c745af3548f3b8c902d866421c5350\"}, \"mark\": {\"type\": \"point\", \"filled\": true, \"opacity\": 0.8, \"size\": 80}, \"encoding\": {\"color\": {\"field\": \"d1\", \"title\": \"d1\", \"type\": \"nominal\"}, \"x\": {\"field\": \"c1\", \"title\": \"c1\", \"type\": \"quantitative\"}, \"y\": {\"field\": \"c2\", \"title\": \"c2\", \"type\": \"quantitative\"}}, \"height\": 350, \"title\": \"Continuous-Continuous\", \"width\": 350}, {\"data\": {\"name\": \"data-752ea6370d0e46f3024e0077f171483c\"}, \"mark\": {\"type\": \"bar\"}, \"encoding\": {\"color\": {\"field\": \"d1\", \"legend\": null, \"type\": \"nominal\"}, \"x\": {\"field\": \"d1\", \"title\": \"d1\", \"type\": \"nominal\"}, \"y\": {\"field\": \"c1\", \"title\": \"mean(c1)\", \"type\": \"quantitative\"}}, \"height\": 350, \"title\": \"Continuous-Discrete\", \"width\": 350}, {\"data\": {\"name\": \"data-16c745af3548f3b8c902d866421c5350\"}, \"mark\": {\"type\": \"rect\"}, \"encoding\": {\"color\": {\"aggregate\": \"count\", \"legend\": {\"title\": \"count\"}, \"scale\": {\"scheme\": \"viridis\"}, \"type\": \"quantitative\"}, \"x\": {\"field\": \"d1\", \"title\": \"d1\", \"type\": \"nominal\"}, \"y\": {\"field\": \"d2\", \"title\": \"d2\", \"type\": \"nominal\"}}, \"height\": 350, \"title\": \"Discrete-Discrete\", \"width\": 350}], \"title\": \"Altair Subplots with Different Data Types\", \"$schema\": \"https://vega.github.io/schema/vega-lite/v5.20.1.json\", \"datasets\": {\"data-16c745af3548f3b8c902d866421c5350\": [{\"c1\": 0.5488135039273248, \"c2\": 0.6778165367962301, \"d1\": \"C\", \"d2\": \"A\"}, {\"c1\": 0.7151893663724195, \"c2\": 0.27000797319216485, \"d1\": \"C\", \"d2\": \"B\"}, {\"c1\": 0.6027633760716439, \"c2\": 0.7351940221225949, \"d1\": \"A\", \"d2\": \"A\"}, {\"c1\": 0.5448831829968969, \"c2\": 0.9621885451174382, \"d1\": \"B\", \"d2\": \"C\"}, {\"c1\": 0.4236547993389047, \"c2\": 0.24875314351995803, \"d1\": \"B\", \"d2\": \"B\"}, {\"c1\": 0.6458941130666561, \"c2\": 0.5761573344178369, \"d1\": \"B\", \"d2\": \"A\"}, {\"c1\": 0.4375872112626925, \"c2\": 0.592041931271839, \"d1\": \"C\", \"d2\": \"B\"}, {\"c1\": 0.8917730007820798, \"c2\": 0.5722519057908734, \"d1\": \"B\", \"d2\": \"C\"}, {\"c1\": 0.9636627605010293, \"c2\": 0.2230816326406183, \"d1\": \"B\", \"d2\": \"A\"}, {\"c1\": 0.3834415188257777, \"c2\": 0.952749011516985, \"d1\": \"B\", \"d2\": \"A\"}, {\"c1\": 0.7917250380826646, \"c2\": 0.44712537861762736, \"d1\": \"C\", \"d2\": \"A\"}, {\"c1\": 0.5288949197529045, \"c2\": 0.8464086724711278, \"d1\": \"A\", \"d2\": \"C\"}, {\"c1\": 0.5680445610939323, \"c2\": 0.6994792753175043, \"d1\": \"B\", \"d2\": \"B\"}, {\"c1\": 0.925596638292661, \"c2\": 0.29743695085513366, \"d1\": \"A\", \"d2\": \"A\"}, {\"c1\": 0.07103605819788694, \"c2\": 0.8137978197024772, \"d1\": \"B\", \"d2\": \"A\"}, {\"c1\": 0.08712929970154071, \"c2\": 0.39650574084698464, \"d1\": \"B\", \"d2\": \"A\"}, {\"c1\": 0.02021839744032572, \"c2\": 0.8811031971111616, \"d1\": \"C\", \"d2\": \"A\"}, {\"c1\": 0.832619845547938, \"c2\": 0.5812728726358587, \"d1\": \"A\", \"d2\": \"B\"}, {\"c1\": 0.7781567509498505, \"c2\": 0.8817353618548528, \"d1\": \"C\", \"d2\": \"C\"}, {\"c1\": 0.8700121482468192, \"c2\": 0.6925315900777659, \"d1\": \"A\", \"d2\": \"C\"}, {\"c1\": 0.978618342232764, \"c2\": 0.7252542798196405, \"d1\": \"C\", \"d2\": \"B\"}, {\"c1\": 0.7991585642167236, \"c2\": 0.5013243819267023, \"d1\": \"A\", \"d2\": \"A\"}, {\"c1\": 0.46147936225293185, \"c2\": 0.9560836347232239, \"d1\": \"C\", \"d2\": \"B\"}, {\"c1\": 0.7805291762864555, \"c2\": 0.6439901992296374, \"d1\": \"A\", \"d2\": \"B\"}, {\"c1\": 0.11827442586893322, \"c2\": 0.4238550485581797, \"d1\": \"A\", \"d2\": \"B\"}, {\"c1\": 0.6399210213275238, \"c2\": 0.6063932141279244, \"d1\": \"A\", \"d2\": \"B\"}, {\"c1\": 0.1433532874090464, \"c2\": 0.019193198309333526, \"d1\": \"A\", \"d2\": \"B\"}, {\"c1\": 0.9446689170495839, \"c2\": 0.30157481667454933, \"d1\": \"B\", \"d2\": \"B\"}, {\"c1\": 0.5218483217500717, \"c2\": 0.660173537492685, \"d1\": \"C\", \"d2\": \"C\"}, {\"c1\": 0.4146619399905236, \"c2\": 0.29007760721044407, \"d1\": \"A\", \"d2\": \"C\"}, {\"c1\": 0.26455561210462697, \"c2\": 0.6180154289988415, \"d1\": \"A\", \"d2\": \"B\"}, {\"c1\": 0.7742336894342167, \"c2\": 0.42876870094576613, \"d1\": \"B\", \"d2\": \"B\"}, {\"c1\": 0.45615033221654855, \"c2\": 0.13547406422245023, \"d1\": \"C\", \"d2\": \"B\"}, {\"c1\": 0.5684339488686485, \"c2\": 0.29828232595603077, \"d1\": \"B\", \"d2\": \"C\"}, {\"c1\": 0.018789800436355142, \"c2\": 0.5699649107012649, \"d1\": \"A\", \"d2\": \"A\"}, {\"c1\": 0.6176354970758771, \"c2\": 0.5908727612481732, \"d1\": \"A\", \"d2\": \"A\"}, {\"c1\": 0.6120957227224214, \"c2\": 0.5743252488495788, \"d1\": \"A\", \"d2\": \"A\"}, {\"c1\": 0.6169339968747569, \"c2\": 0.6532008198571336, \"d1\": \"A\", \"d2\": \"B\"}, {\"c1\": 0.9437480785146242, \"c2\": 0.6521032700016889, \"d1\": \"A\", \"d2\": \"A\"}, {\"c1\": 0.6818202991034834, \"c2\": 0.43141843543397396, \"d1\": \"B\", \"d2\": \"B\"}, {\"c1\": 0.359507900573786, \"c2\": 0.896546595851063, \"d1\": \"A\", \"d2\": \"A\"}, {\"c1\": 0.43703195379934145, \"c2\": 0.36756187004789653, \"d1\": \"C\", \"d2\": \"C\"}, {\"c1\": 0.6976311959272649, \"c2\": 0.4358649252656268, \"d1\": \"C\", \"d2\": \"C\"}, {\"c1\": 0.06022547162926983, \"c2\": 0.8919233550156721, \"d1\": \"C\", \"d2\": \"B\"}, {\"c1\": 0.6667667154456677, \"c2\": 0.8061939890460857, \"d1\": \"A\", \"d2\": \"A\"}, {\"c1\": 0.6706378696181594, \"c2\": 0.7038885835403663, \"d1\": \"A\", \"d2\": \"A\"}, {\"c1\": 0.2103825610738409, \"c2\": 0.10022688731230112, \"d1\": \"C\", \"d2\": \"A\"}, {\"c1\": 0.1289262976548533, \"c2\": 0.9194826137446735, \"d1\": \"A\", \"d2\": \"A\"}, {\"c1\": 0.31542835092418386, \"c2\": 0.7142412995491114, \"d1\": \"C\", \"d2\": \"A\"}, {\"c1\": 0.3637107709426226, \"c2\": 0.9988470065678665, \"d1\": \"C\", \"d2\": \"C\"}, {\"c1\": 0.5701967704178796, \"c2\": 0.14944830465799375, \"d1\": \"A\", \"d2\": \"B\"}, {\"c1\": 0.43860151346232035, \"c2\": 0.8681260573682142, \"d1\": \"B\", \"d2\": \"A\"}, {\"c1\": 0.9883738380592262, \"c2\": 0.16249293467637482, \"d1\": \"B\", \"d2\": \"C\"}, {\"c1\": 0.10204481074802807, \"c2\": 0.6155595642838442, \"d1\": \"B\", \"d2\": \"A\"}, {\"c1\": 0.2088767560948347, \"c2\": 0.12381998284944151, \"d1\": \"A\", \"d2\": \"C\"}, {\"c1\": 0.16130951788499626, \"c2\": 0.8480082293222344, \"d1\": \"A\", \"d2\": \"B\"}, {\"c1\": 0.6531083254653984, \"c2\": 0.8073189587250107, \"d1\": \"B\", \"d2\": \"A\"}, {\"c1\": 0.2532916025397821, \"c2\": 0.5691007386145933, \"d1\": \"A\", \"d2\": \"A\"}, {\"c1\": 0.4663107728563063, \"c2\": 0.40718329722599966, \"d1\": \"A\", \"d2\": \"C\"}, {\"c1\": 0.24442559200160274, \"c2\": 0.06916699545513805, \"d1\": \"B\", \"d2\": \"B\"}, {\"c1\": 0.15896958364551972, \"c2\": 0.6974287731445636, \"d1\": \"C\", \"d2\": \"C\"}, {\"c1\": 0.11037514116430513, \"c2\": 0.45354268267806885, \"d1\": \"C\", \"d2\": \"C\"}, {\"c1\": 0.6563295894652734, \"c2\": 0.7220555994703479, \"d1\": \"A\", \"d2\": \"B\"}, {\"c1\": 0.1381829513486138, \"c2\": 0.8663823259286292, \"d1\": \"C\", \"d2\": \"A\"}, {\"c1\": 0.1965823616800535, \"c2\": 0.9755215050028858, \"d1\": \"B\", \"d2\": \"A\"}, {\"c1\": 0.3687251706609641, \"c2\": 0.855803342392611, \"d1\": \"B\", \"d2\": \"C\"}, {\"c1\": 0.8209932298479351, \"c2\": 0.011714084185001972, \"d1\": \"C\", \"d2\": \"B\"}, {\"c1\": 0.09710127579306127, \"c2\": 0.3599780644783639, \"d1\": \"B\", \"d2\": \"B\"}, {\"c1\": 0.8379449074988039, \"c2\": 0.729990562424058, \"d1\": \"C\", \"d2\": \"A\"}, {\"c1\": 0.09609840789396307, \"c2\": 0.17162967726144052, \"d1\": \"C\", \"d2\": \"A\"}, {\"c1\": 0.9764594650133958, \"c2\": 0.5210366062041293, \"d1\": \"B\", \"d2\": \"C\"}, {\"c1\": 0.4686512016477016, \"c2\": 0.05433798833925363, \"d1\": \"C\", \"d2\": \"A\"}, {\"c1\": 0.9767610881903371, \"c2\": 0.19999652489640007, \"d1\": \"A\", \"d2\": \"B\"}, {\"c1\": 0.604845519745046, \"c2\": 0.01852179446061397, \"d1\": \"A\", \"d2\": \"C\"}, {\"c1\": 0.7392635793983017, \"c2\": 0.7936977033574206, \"d1\": \"C\", \"d2\": \"C\"}, {\"c1\": 0.039187792254320675, \"c2\": 0.22392468806038013, \"d1\": \"B\", \"d2\": \"B\"}, {\"c1\": 0.2828069625764096, \"c2\": 0.3453516806969027, \"d1\": \"B\", \"d2\": \"A\"}, {\"c1\": 0.1201965612131689, \"c2\": 0.9280812934655909, \"d1\": \"C\", \"d2\": \"A\"}, {\"c1\": 0.29614019752214493, \"c2\": 0.7044144019235328, \"d1\": \"C\", \"d2\": \"B\"}, {\"c1\": 0.11872771895424405, \"c2\": 0.03183892953130785, \"d1\": \"B\", \"d2\": \"A\"}, {\"c1\": 0.317983179393976, \"c2\": 0.16469415649791275, \"d1\": \"A\", \"d2\": \"A\"}, {\"c1\": 0.41426299451466997, \"c2\": 0.6214784014997635, \"d1\": \"C\", \"d2\": \"C\"}, {\"c1\": 0.06414749634878436, \"c2\": 0.5772285886041676, \"d1\": \"A\", \"d2\": \"A\"}, {\"c1\": 0.6924721193700198, \"c2\": 0.23789282137450862, \"d1\": \"C\", \"d2\": \"A\"}, {\"c1\": 0.5666014542065752, \"c2\": 0.9342139979247938, \"d1\": \"A\", \"d2\": \"B\"}, {\"c1\": 0.2653894909394454, \"c2\": 0.613965955965896, \"d1\": \"C\", \"d2\": \"B\"}, {\"c1\": 0.5232480534666997, \"c2\": 0.5356328030249583, \"d1\": \"B\", \"d2\": \"B\"}, {\"c1\": 0.09394051075844168, \"c2\": 0.589909976354571, \"d1\": \"C\", \"d2\": \"B\"}, {\"c1\": 0.5759464955561793, \"c2\": 0.7301220295167696, \"d1\": \"B\", \"d2\": \"B\"}, {\"c1\": 0.9292961975762141, \"c2\": 0.31194499547960186, \"d1\": \"A\", \"d2\": \"B\"}, {\"c1\": 0.31856895245132366, \"c2\": 0.3982210622160919, \"d1\": \"B\", \"d2\": \"C\"}, {\"c1\": 0.6674103799636817, \"c2\": 0.20984374897512215, \"d1\": \"B\", \"d2\": \"A\"}, {\"c1\": 0.13179786240439217, \"c2\": 0.18619300588033616, \"d1\": \"C\", \"d2\": \"C\"}, {\"c1\": 0.7163272041185655, \"c2\": 0.9443723899839336, \"d1\": \"C\", \"d2\": \"A\"}, {\"c1\": 0.2894060929472011, \"c2\": 0.7395507950492876, \"d1\": \"A\", \"d2\": \"B\"}, {\"c1\": 0.18319136200711683, \"c2\": 0.4904588086175671, \"d1\": \"B\", \"d2\": \"A\"}, {\"c1\": 0.5865129348100832, \"c2\": 0.22741462797332324, \"d1\": \"A\", \"d2\": \"C\"}, {\"c1\": 0.020107546187493552, \"c2\": 0.25435648177039294, \"d1\": \"A\", \"d2\": \"A\"}, {\"c1\": 0.8289400292173631, \"c2\": 0.05802916032387562, \"d1\": \"A\", \"d2\": \"A\"}, {\"c1\": 0.004695476192547066, \"c2\": 0.4344166255581208, \"d1\": \"C\", \"d2\": \"B\"}], \"data-752ea6370d0e46f3024e0077f171483c\": [{\"d1\": \"A\", \"c1\": 0.5150351184301202}, {\"d1\": \"B\", \"c1\": 0.47743954063582206}, {\"d1\": \"C\", \"c1\": 0.4212090409170502}]}}, {\"mode\": \"vega-lite\"});\n",
       "</script>"
      ],
      "text/plain": [
       "alt.HConcatChart(...)"
      ]
     },
     "metadata": {},
     "output_type": "display_data"
    }
   ],
   "source": [
    "import altair as alt\n",
    "charts = []\n",
    "\n",
    "for title, x, y in datasets:\n",
    "    # Continuous-Continuous\n",
    "    if 'c' in x and 'c' in y:\n",
    "        chart = alt.Chart(df).mark_point(filled=True, size=80, opacity=0.8).encode(\n",
    "            x=alt.X('c1', title='c1'),\n",
    "            y=alt.Y('c2', title='c2'),\n",
    "            color=alt.Color('d1:N', title='d1')\n",
    "        ).properties(\n",
    "            title=title,\n",
    "            width=350,\n",
    "            height=350\n",
    "        )\n",
    "    # Continuous-Discrete\n",
    "    elif 'c' in x and 'd' in y:\n",
    "        chart = alt.Chart(agg_df).mark_bar().encode(\n",
    "            x=alt.X('d1:N', title='d1'),\n",
    "            y=alt.Y('c1:Q', title='mean(c1)'),\n",
    "            color=alt.Color('d1:N', legend=None)\n",
    "        ).properties(\n",
    "            title=title,\n",
    "            width=350,\n",
    "            height=350\n",
    "        )\n",
    "    # Discrete-Discrete\n",
    "    else:\n",
    "        chart = alt.Chart(df).mark_rect().encode(\n",
    "            x=alt.X('d1:N', title='d1'),\n",
    "            y=alt.Y('d2:N', title='d2'),\n",
    "            color=alt.Color('count():Q', scale=alt.Scale(scheme='viridis'), legend=alt.Legend(title='count'))\n",
    "        ).properties(\n",
    "            title=title,\n",
    "            width=350,\n",
    "            height=350\n",
    "        )\n",
    "    charts.append(chart)\n",
    "\n",
    "plot = alt.hconcat(*charts).properties(\n",
    "    title='Altair Subplots with Different Data Types'\n",
    ")\n",
    "plot.show()\n",
    "\n",
    "# Export as svg\n",
    "plot.save('plots/altair.svg')"
   ]
  },
  {
   "cell_type": "markdown",
   "id": "74b0b2ec",
   "metadata": {},
   "source": [
    "# Visualize with Seaborn"
   ]
  },
  {
   "cell_type": "code",
   "execution_count": 18,
   "id": "52fd5b04",
   "metadata": {},
   "outputs": [
    {
     "data": {
      "image/png": "[encoded data removed]",
      "text/plain": [
       "<Figure size 1800x500 with 4 Axes>"
      ]
     },
     "metadata": {},
     "output_type": "display_data"
    }
   ],
   "source": [
    "import seaborn as sns\n",
    "import matplotlib.pyplot as plt\n",
    "\n",
    "fig, axes = plt.subplots(1, 3, figsize=(18, 5))\n",
    "fig.suptitle('Seaborn Subplots with Different Data Types')\n",
    "\n",
    "# Continuous-Continuous\n",
    "sns.scatterplot(data=df, x='c1', y='c2', hue='d1', ax=axes[0])\n",
    "axes[0].set_title('Continuous-Continuous')\n",
    "\n",
    "# Continuous-Discrete (bar plot of mean c1 by d1)\n",
    "sns.barplot(data=agg_df, x='d1', y='c1', hue='d1', dodge=False, ax=axes[1])\n",
    "axes[1].set_title('Continuous-Discrete')\n",
    "\n",
    "# Discrete-Discrete (heatmap of counts)\n",
    "pivot = df.pivot_table(index='d1', columns='d2', aggfunc='size', fill_value=0)\n",
    "sns.heatmap(pivot, cmap='viridis', ax=axes[2])\n",
    "axes[2].set_title('Discrete-Discrete')\n",
    "\n",
    "plt.show()\n",
    "\n",
    "# Export as svg\n",
    "fig.savefig('plots/seaborn.svg', format='svg')"
   ]
  },
  {
   "cell_type": "markdown",
   "id": "beb3d494",
   "metadata": {},
   "source": [
    "# Visualize with Matplotlib"
   ]
  },
  {
   "cell_type": "code",
   "execution_count": 19,
   "id": "b30cd505",
   "metadata": {},
   "outputs": [
    {
     "data": {
      "image/png": "[encoded data removed]",
      "text/plain": [
       "<Figure size 1800x500 with 4 Axes>"
      ]
     },
     "metadata": {},
     "output_type": "display_data"
    }
   ],
   "source": [
    "fig, axes = plt.subplots(1, 3, figsize=(18, 5))\n",
    "fig.suptitle('Matplotlib Subplots with Different Data Types')\n",
    "\n",
    "# Continuous-Continuous\n",
    "for group in df['d1'].unique():\n",
    "    mask = df['d1'] == group\n",
    "    axes[0].scatter(df.loc[mask, 'c1'], df.loc[mask, 'c2'], label=group, alpha=0.8)\n",
    "axes[0].set_title('Continuous-Continuous')\n",
    "axes[0].set_xlabel('c1')\n",
    "axes[0].set_ylabel('c2')\n",
    "axes[0].legend(title='d1')\n",
    "\n",
    "# Continuous-Discrete\n",
    "axes[1].bar(agg_df['d1'], agg_df['c1'], color=['C0', 'C1', 'C2'])\n",
    "axes[1].set_title('Continuous-Discrete')\n",
    "axes[1].set_xlabel('d1')\n",
    "axes[1].set_ylabel('mean(c1)')\n",
    "\n",
    "# Discrete-Discrete\n",
    "im = axes[2].imshow(pivot.values, cmap='viridis')\n",
    "axes[2].set_xticks(np.arange(len(pivot.columns)))\n",
    "axes[2].set_yticks(np.arange(len(pivot.index)))\n",
    "axes[2].set_xticklabels(pivot.columns)\n",
    "axes[2].set_yticklabels(pivot.index)\n",
    "axes[2].set_xlabel('d2')\n",
    "axes[2].set_ylabel('d1')\n",
    "axes[2].set_title('Discrete-Discrete')\n",
    "fig.colorbar(im, ax=axes[2], fraction=0.046, pad=0.04, label='count')\n",
    "\n",
    "plt.tight_layout(rect=[0, 0, 1, 0.95])\n",
    "plt.show()\n",
    "\n",
    "# Export as svg\n",
    "fig.savefig('plots/matplotlib.svg', format='svg')"
   ]
  },
  {
   "cell_type": "code",
   "execution_count": null,
   "id": "0b3942de",
   "metadata": {},
   "outputs": [],
   "source": []
  }
 ],
 "metadata": {
  "kernelspec": {
   "display_name": ".venv",
   "language": "python",
   "name": "python3"
  },
  "language_info": {
   "codemirror_mode": {
    "name": "ipython",
    "version": 3
   },
   "file_extension": ".py",
   "mimetype": "text/x-python",
   "name": "python",
   "nbconvert_exporter": "python",
   "pygments_lexer": "ipython3",
   "version": "3.10.16"
  }
 },
 "nbformat": 4,
 "nbformat_minor": 5
}
